{
 "cells": [
  {
   "cell_type": "code",
   "execution_count": 34,
   "metadata": {
    "collapsed": true
   },
   "outputs": [],
   "source": [
    "from citipy import citipy as cp\n",
    "import pandas as pd\n",
    "import matplotlib.pyplot as plt\n",
    "import requests as req\n",
    "import os \n",
    "import seaborn\n",
    "import numpy as np\n"
   ]
  },
  {
   "cell_type": "code",
   "execution_count": 35,
   "metadata": {
    "collapsed": true
   },
   "outputs": [],
   "source": [
    "#key stored a couple of folders back\n",
    "key = open(os.path.join(\"../../api_weather.txt\"))"
   ]
  },
  {
   "cell_type": "code",
   "execution_count": 36,
   "metadata": {
    "collapsed": true
   },
   "outputs": [],
   "source": [
    "#save key\n",
    "api_key=key.read()\n"
   ]
  },
  {
   "cell_type": "code",
   "execution_count": 42,
   "metadata": {
    "collapsed": true
   },
   "outputs": [],
   "source": [
    "#lattitudes evenly from -90 to 90\n",
    "lat=np.arange(-90,90,.18)"
   ]
  },
  {
   "cell_type": "code",
   "execution_count": 43,
   "metadata": {
    "collapsed": true
   },
   "outputs": [],
   "source": [
    "#random longitudes from -180 to 180\n",
    "lng=np.random.randint(low=-180, high=180, size=1000)"
   ]
  },
  {
   "cell_type": "code",
   "execution_count": 44,
   "metadata": {
    "collapsed": true
   },
   "outputs": [],
   "source": [
    "#zip togehter\n",
    "cord=list(zip(lat,lng))"
   ]
  },
  {
   "cell_type": "code",
   "execution_count": 45,
   "metadata": {
    "collapsed": true
   },
   "outputs": [],
   "source": [
    "#find city names an countries nearest these coordinates as sample\n",
    "cities=[]\n",
    "cc=[]\n",
    "for x in range(len(cord)):\n",
    "    cities.append(cp.nearest_city(cord[x][0],cord[x][1]).city_name)\n",
    "    cc.append(cp.nearest_city(cord[x][0],cord[x][1]).country_code)\n"
   ]
  },
  {
   "cell_type": "code",
   "execution_count": 46,
   "metadata": {},
   "outputs": [],
   "source": [
    "weather=[]\n",
    "for x in range(len(cc)):\n",
    "    url=\"http://api.openweathermap.org/data/2.5/weather?q=\"+cities[x]+','+cc[x]+api_key\n",
    "    weather.append(req.get(url).json())"
   ]
  },
  {
   "cell_type": "code",
   "execution_count": 50,
   "metadata": {
    "collapsed": true
   },
   "outputs": [],
   "source": [
    "temp=[]\n",
    "for x in range(len(weather)):\n",
    "    if weather[x] == {'cod': '404', 'message': 'city not found'}:\n",
    "        temp.append(\"NaN\")\n",
    "    else: temp.append(weather[x]['main']['temp'])\n"
   ]
  },
  {
   "cell_type": "code",
   "execution_count": 51,
   "metadata": {
    "collapsed": true
   },
   "outputs": [],
   "source": [
    "humidity=[]\n",
    "for x in range(len(weather)):\n",
    "    if weather[x] == {'cod': '404', 'message': 'city not found'}:\n",
    "        humidity.append(\"NaN\")\n",
    "    else: humidity.append(weather[x]['main']['humidity'])\n"
   ]
  },
  {
   "cell_type": "code",
   "execution_count": 52,
   "metadata": {
    "collapsed": true
   },
   "outputs": [],
   "source": [
    "clouds=[]\n",
    "for x in range(len(weather)):\n",
    "    if weather[x] == {'cod': '404', 'message': 'city not found'}:\n",
    "        clouds.append(\"NaN\")\n",
    "    else: clouds.append(weather[x]['clouds']['all'])\n"
   ]
  },
  {
   "cell_type": "code",
   "execution_count": 53,
   "metadata": {
    "collapsed": true
   },
   "outputs": [],
   "source": [
    "windspeed=[]\n",
    "for x in range(len(weather)):\n",
    "    if weather[x] == {'cod': '404', 'message': 'city not found'}:\n",
    "        windspeed.append(\"NaN\")\n",
    "    else: windspeed.append(weather[x]['wind']['speed'])\n"
   ]
  },
  {
   "cell_type": "code",
   "execution_count": 55,
   "metadata": {},
   "outputs": [],
   "source": [
    "latitude=[]\n",
    "for x in range(len(weather)):\n",
    "    if weather[x] == {'cod': '404', 'message': 'city not found'}:\n",
    "        latitude.append(\"NaN\")\n",
    "    else: latitude.append(weather[x]['coord']['lat'])\n"
   ]
  },
  {
   "cell_type": "code",
   "execution_count": 70,
   "metadata": {
    "collapsed": true
   },
   "outputs": [],
   "source": [
    "weather_data=pd.DataFrame({'lat':latitude,'city':cities,'country':cc,'temp':temp,'humidity':humidity,'clouds':clouds,'windspeed':windspeed})"
   ]
  },
  {
   "cell_type": "code",
   "execution_count": 2,
   "metadata": {},
   "outputs": [
    {
     "ename": "NameError",
     "evalue": "name 'weather_data' is not defined",
     "output_type": "error",
     "traceback": [
      "\u001b[0;31m---------------------------------------------------------------------------\u001b[0m",
      "\u001b[0;31mNameError\u001b[0m                                 Traceback (most recent call last)",
      "\u001b[0;32m<ipython-input-2-c37aee4e982c>\u001b[0m in \u001b[0;36m<module>\u001b[0;34m()\u001b[0m\n\u001b[0;32m----> 1\u001b[0;31m \u001b[0mweather_data\u001b[0m\u001b[0;34m.\u001b[0m\u001b[0mto_csv\u001b[0m\u001b[0;34m(\u001b[0m\u001b[0;34m'weather_data.csv'\u001b[0m\u001b[0;34m)\u001b[0m\u001b[0;34m\u001b[0m\u001b[0m\n\u001b[0m\u001b[1;32m      2\u001b[0m \u001b[0mweather_data\u001b[0m\u001b[0;34m=\u001b[0m\u001b[0mpd\u001b[0m\u001b[0;34m.\u001b[0m\u001b[0mread_csv\u001b[0m\u001b[0;34m(\u001b[0m\u001b[0;34m'weather_data.csv'\u001b[0m\u001b[0;34m)\u001b[0m\u001b[0;34m\u001b[0m\u001b[0m\n",
      "\u001b[0;31mNameError\u001b[0m: name 'weather_data' is not defined"
     ]
    }
   ],
   "source": [
    "weather_data.to_csv('weather_data.csv')\n"
   ]
  },
  {
   "cell_type": "code",
   "execution_count": 64,
   "metadata": {},
   "outputs": [],
   "source": [
    "#weather_data=pd.read_csv('weather_data.csv')"
   ]
  },
  {
   "cell_type": "code",
   "execution_count": 71,
   "metadata": {},
   "outputs": [
    {
     "data": {
      "text/html": [
       "<div>\n",
       "<style>\n",
       "    .dataframe thead tr:only-child th {\n",
       "        text-align: right;\n",
       "    }\n",
       "\n",
       "    .dataframe thead th {\n",
       "        text-align: left;\n",
       "    }\n",
       "\n",
       "    .dataframe tbody tr th {\n",
       "        vertical-align: top;\n",
       "    }\n",
       "</style>\n",
       "<table border=\"1\" class=\"dataframe\">\n",
       "  <thead>\n",
       "    <tr style=\"text-align: right;\">\n",
       "      <th></th>\n",
       "      <th>city</th>\n",
       "      <th>clouds</th>\n",
       "      <th>country</th>\n",
       "      <th>humidity</th>\n",
       "      <th>lat</th>\n",
       "      <th>temp</th>\n",
       "      <th>windspeed</th>\n",
       "    </tr>\n",
       "  </thead>\n",
       "  <tbody>\n",
       "    <tr>\n",
       "      <th>0</th>\n",
       "      <td>mataura</td>\n",
       "      <td>NaN</td>\n",
       "      <td>pf</td>\n",
       "      <td>NaN</td>\n",
       "      <td>NaN</td>\n",
       "      <td>NaN</td>\n",
       "      <td>NaN</td>\n",
       "    </tr>\n",
       "    <tr>\n",
       "      <th>1</th>\n",
       "      <td>ushuaia</td>\n",
       "      <td>75</td>\n",
       "      <td>ar</td>\n",
       "      <td>47</td>\n",
       "      <td>-54.81</td>\n",
       "      <td>288.15</td>\n",
       "      <td>11.3</td>\n",
       "    </tr>\n",
       "    <tr>\n",
       "      <th>2</th>\n",
       "      <td>punta arenas</td>\n",
       "      <td>75</td>\n",
       "      <td>cl</td>\n",
       "      <td>47</td>\n",
       "      <td>-53.16</td>\n",
       "      <td>287.1</td>\n",
       "      <td>14.4</td>\n",
       "    </tr>\n",
       "    <tr>\n",
       "      <th>3</th>\n",
       "      <td>arraial do cabo</td>\n",
       "      <td>20</td>\n",
       "      <td>br</td>\n",
       "      <td>70</td>\n",
       "      <td>-22.97</td>\n",
       "      <td>303.64</td>\n",
       "      <td>1.5</td>\n",
       "    </tr>\n",
       "    <tr>\n",
       "      <th>4</th>\n",
       "      <td>avarua</td>\n",
       "      <td>75</td>\n",
       "      <td>ck</td>\n",
       "      <td>88</td>\n",
       "      <td>-21.21</td>\n",
       "      <td>298.15</td>\n",
       "      <td>1.5</td>\n",
       "    </tr>\n",
       "    <tr>\n",
       "      <th>5</th>\n",
       "      <td>aquiraz</td>\n",
       "      <td>75</td>\n",
       "      <td>br</td>\n",
       "      <td>66</td>\n",
       "      <td>-3.9</td>\n",
       "      <td>304.15</td>\n",
       "      <td>6.2</td>\n",
       "    </tr>\n",
       "    <tr>\n",
       "      <th>6</th>\n",
       "      <td>marawi</td>\n",
       "      <td>0</td>\n",
       "      <td>sd</td>\n",
       "      <td>20</td>\n",
       "      <td>18.48</td>\n",
       "      <td>299.108</td>\n",
       "      <td>4.42</td>\n",
       "    </tr>\n",
       "    <tr>\n",
       "      <th>7</th>\n",
       "      <td>henderson</td>\n",
       "      <td>1</td>\n",
       "      <td>us</td>\n",
       "      <td>75</td>\n",
       "      <td>36.04</td>\n",
       "      <td>278.96</td>\n",
       "      <td>1.62</td>\n",
       "    </tr>\n",
       "    <tr>\n",
       "      <th>8</th>\n",
       "      <td>sept-iles</td>\n",
       "      <td>75</td>\n",
       "      <td>ca</td>\n",
       "      <td>45</td>\n",
       "      <td>50.2</td>\n",
       "      <td>269.15</td>\n",
       "      <td>5.7</td>\n",
       "    </tr>\n",
       "    <tr>\n",
       "      <th>9</th>\n",
       "      <td>ilulissat</td>\n",
       "      <td>75</td>\n",
       "      <td>gl</td>\n",
       "      <td>61</td>\n",
       "      <td>69.22</td>\n",
       "      <td>262.15</td>\n",
       "      <td>1.5</td>\n",
       "    </tr>\n",
       "  </tbody>\n",
       "</table>\n",
       "</div>"
      ],
      "text/plain": [
       "              city clouds country humidity    lat     temp windspeed\n",
       "0          mataura    NaN      pf      NaN    NaN      NaN       NaN\n",
       "1          ushuaia     75      ar       47 -54.81   288.15      11.3\n",
       "2     punta arenas     75      cl       47 -53.16    287.1      14.4\n",
       "3  arraial do cabo     20      br       70 -22.97   303.64       1.5\n",
       "4           avarua     75      ck       88 -21.21   298.15       1.5\n",
       "5          aquiraz     75      br       66   -3.9   304.15       6.2\n",
       "6           marawi      0      sd       20  18.48  299.108      4.42\n",
       "7        henderson      1      us       75  36.04   278.96      1.62\n",
       "8        sept-iles     75      ca       45   50.2   269.15       5.7\n",
       "9        ilulissat     75      gl       61  69.22   262.15       1.5"
      ]
     },
     "execution_count": 71,
     "metadata": {},
     "output_type": "execute_result"
    }
   ],
   "source": [
    "sample_df=weather_data.dropna().sample(n=500)\n",
    "weather_data"
   ]
  },
  {
   "cell_type": "code",
   "execution_count": 72,
   "metadata": {},
   "outputs": [
    {
     "data": {
      "image/png": "[encoded data removed]",
      "text/plain": [
       "<matplotlib.figure.Figure at 0x11b3a1be0>"
      ]
     },
     "metadata": {},
     "output_type": "display_data"
    }
   ],
   "source": [
    "plt.scatter(x=sample_df['lat'],y=sample_df['temp'])\n",
    "plt.xlabel('Latitude')\n",
    "plt.ylabel('Temperature (K)')\n",
    "plt.title(\"Latitude vs Temperature\")\n",
    "plt.show()"
   ]
  },
  {
   "cell_type": "code",
   "execution_count": 73,
   "metadata": {},
   "outputs": [
    {
     "data": {
      "image/png": "[encoded data removed]",
      "text/plain": [
       "<matplotlib.figure.Figure at 0x11b36bb70>"
      ]
     },
     "metadata": {},
     "output_type": "display_data"
    }
   ],
   "source": [
    "plt.scatter(x=sample_df['lat'],y=sample_df['humidity'])\n",
    "plt.xlabel('Latitude')\n",
    "plt.ylabel('Humidity (%)')\n",
    "plt.title(\"Latitude vs Humidity \")\n",
    "plt.show()"
   ]
  },
  {
   "cell_type": "code",
   "execution_count": 74,
   "metadata": {},
   "outputs": [
    {
     "data": {
      "image/png": "[encoded data removed]",
      "text/plain": [
       "<matplotlib.figure.Figure at 0x11a98b668>"
      ]
     },
     "metadata": {},
     "output_type": "display_data"
    }
   ],
   "source": [
    "plt.scatter(x=sample_df['lat'],y=sample_df['clouds'])\n",
    "plt.xlabel('Latitude')\n",
    "plt.ylabel('Clouds')\n",
    "plt.title(\"Latitude vs Clouds\")\n",
    "plt.show()"
   ]
  },
  {
   "cell_type": "code",
   "execution_count": 75,
   "metadata": {},
   "outputs": [
    {
     "data": {
      "image/png": "[encoded data removed]",
      "text/plain": [
       "<matplotlib.figure.Figure at 0x11b2c37f0>"
      ]
     },
     "metadata": {},
     "output_type": "display_data"
    }
   ],
   "source": [
    "plt.scatter(x=sample_df['lat'],y=sample_df['windspeed'])\n",
    "plt.xlabel('Latitude')\n",
    "plt.ylabel('Windspeed')\n",
    "plt.title(\"Latitude vs Windspeed (MPH)\")\n",
    "plt.show()"
   ]
  },
  {
   "cell_type": "code",
   "execution_count": null,
   "metadata": {
    "collapsed": true
   },
   "outputs": [],
   "source": []
  }
 ],
 "metadata": {
  "kernelspec": {
   "display_name": "Python 3",
   "language": "python",
   "name": "python3"
  },
  "language_info": {
   "codemirror_mode": {
    "name": "ipython",
    "version": 3
   },
   "file_extension": ".py",
   "mimetype": "text/x-python",
   "name": "python",
   "nbconvert_exporter": "python",
   "pygments_lexer": "ipython3",
   "version": "3.6.1"
  }
 },
 "nbformat": 4,
 "nbformat_minor": 2
}
