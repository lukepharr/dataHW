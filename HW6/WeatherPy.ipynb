{
 "cells": [
  {
   "cell_type": "code",
   "execution_count": 1,
   "metadata": {
    "collapsed": true
   },
   "outputs": [],
   "source": [
    "from citipy import citipy as cp\n",
    "import pandas as pd\n",
    "import matplotlib.pyplot as plt\n",
    "import requests as req\n",
    "import os \n",
    "import seaborn\n",
    "import numpy as np\n"
   ]
  },
  {
   "cell_type": "code",
   "execution_count": 2,
   "metadata": {
    "collapsed": true
   },
   "outputs": [],
   "source": [
    "#key stored a couple of folders back\n",
    "key = open(os.path.join(\"../../api_weather.txt\"))"
   ]
  },
  {
   "cell_type": "code",
   "execution_count": 3,
   "metadata": {
    "collapsed": true
   },
   "outputs": [],
   "source": [
    "#save key\n",
    "api_key=key.read()\n"
   ]
  },
  {
   "cell_type": "code",
   "execution_count": 4,
   "metadata": {
    "collapsed": true
   },
   "outputs": [],
   "source": [
    "#lattitudes evenly from -90 to 90\n",
    "lat=np.arange(-90,90,.18)"
   ]
  },
  {
   "cell_type": "code",
   "execution_count": 5,
   "metadata": {
    "collapsed": true
   },
   "outputs": [],
   "source": [
    "#random longitudes from -180 to 180\n",
    "lng=np.random.randint(low=-180, high=180, size=1000)"
   ]
  },
  {
   "cell_type": "code",
   "execution_count": 6,
   "metadata": {
    "collapsed": true
   },
   "outputs": [],
   "source": [
    "#zip togehter\n",
    "cord=list(zip(lat,lng))"
   ]
  },
  {
   "cell_type": "code",
   "execution_count": 7,
   "metadata": {
    "collapsed": true
   },
   "outputs": [],
   "source": [
    "#find city names an countries nearest these coordinates as sample\n",
    "cities=[]\n",
    "cc=[]\n",
    "for x in range(len(cord)):\n",
    "    cities.append(cp.nearest_city(cord[x][0],cord[x][1]).city_name)\n",
    "    cc.append(cp.nearest_city(cord[x][0],cord[x][1]).country_code)\n"
   ]
  },
  {
   "cell_type": "code",
   "execution_count": 8,
   "metadata": {
    "collapsed": true
   },
   "outputs": [],
   "source": [
    "weather=[]\n",
    "for x in range(len(cc)):\n",
    "    url=\"http://api.openweathermap.org/data/2.5/weather?q=\"+cities[x]+','+cc[x]+api_key\n",
    "    weather.append(req.get(url).json())"
   ]
  },
  {
   "cell_type": "code",
   "execution_count": 9,
   "metadata": {
    "collapsed": true
   },
   "outputs": [],
   "source": [
    "temp=[]\n",
    "for x in range(len(weather)):\n",
    "    if weather[x] == {'cod': '404', 'message': 'city not found'}:\n",
    "        temp.append(\"NaN\")\n",
    "    else: temp.append(weather[x]['main']['temp'])\n"
   ]
  },
  {
   "cell_type": "code",
   "execution_count": 10,
   "metadata": {
    "collapsed": true
   },
   "outputs": [],
   "source": [
    "humidity=[]\n",
    "for x in range(len(weather)):\n",
    "    if weather[x] == {'cod': '404', 'message': 'city not found'}:\n",
    "        humidity.append(\"NaN\")\n",
    "    else: humidity.append(weather[x]['main']['humidity'])\n"
   ]
  },
  {
   "cell_type": "code",
   "execution_count": 11,
   "metadata": {
    "collapsed": true
   },
   "outputs": [],
   "source": [
    "clouds=[]\n",
    "for x in range(len(weather)):\n",
    "    if weather[x] == {'cod': '404', 'message': 'city not found'}:\n",
    "        clouds.append(\"NaN\")\n",
    "    else: clouds.append(weather[x]['clouds']['all'])\n"
   ]
  },
  {
   "cell_type": "code",
   "execution_count": 12,
   "metadata": {
    "collapsed": true
   },
   "outputs": [],
   "source": [
    "windspeed=[]\n",
    "for x in range(len(weather)):\n",
    "    if weather[x] == {'cod': '404', 'message': 'city not found'}:\n",
    "        windspeed.append(\"NaN\")\n",
    "    else: windspeed.append(weather[x]['wind']['speed'])\n"
   ]
  },
  {
   "cell_type": "code",
   "execution_count": null,
   "metadata": {
    "collapsed": true
   },
   "outputs": [],
   "source": [
    "pd.DataFrame({'city':cities,'country':cc,'temp':temp,'humidity':humidity,'clouds':clouds})"
   ]
  }
 ],
 "metadata": {
  "kernelspec": {
   "display_name": "Python 3",
   "language": "python",
   "name": "python3"
  },
  "language_info": {
   "codemirror_mode": {
    "name": "ipython",
    "version": 3
   },
   "file_extension": ".py",
   "mimetype": "text/x-python",
   "name": "python",
   "nbconvert_exporter": "python",
   "pygments_lexer": "ipython3",
   "version": "3.6.1"
  }
 },
 "nbformat": 4,
 "nbformat_minor": 2
}
