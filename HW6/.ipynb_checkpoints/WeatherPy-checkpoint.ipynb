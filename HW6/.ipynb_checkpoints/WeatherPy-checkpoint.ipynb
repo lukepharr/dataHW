{
 "cells": [
  {
   "cell_type": "code",
   "execution_count": 84,
   "metadata": {
    "collapsed": true
   },
   "outputs": [],
   "source": [
    "#dependencies\n",
    "from citipy import citipy as cp\n",
    "import pandas as pd\n",
    "import matplotlib.pyplot as plt\n",
    "import requests as req\n",
    "import os \n",
    "import seaborn\n",
    "import numpy as np\n"
   ]
  },
  {
   "cell_type": "code",
   "execution_count": 85,
   "metadata": {
    "collapsed": true
   },
   "outputs": [],
   "source": [
    "#key stored a couple of folders back\n",
    "key = open(os.path.join(\"../../api_weather.txt\"))"
   ]
  },
  {
   "cell_type": "code",
   "execution_count": 86,
   "metadata": {
    "collapsed": true
   },
   "outputs": [],
   "source": [
    "#save key\n",
    "api_key=key.read()\n"
   ]
  },
  {
   "cell_type": "code",
   "execution_count": 87,
   "metadata": {
    "collapsed": true
   },
   "outputs": [],
   "source": [
    "#lattitudes evenly from -90 to 90\n",
    "lat=np.arange(-90,90,.18)"
   ]
  },
  {
   "cell_type": "code",
   "execution_count": 88,
   "metadata": {
    "collapsed": true
   },
   "outputs": [],
   "source": [
    "#random longitudes from -180 to 180\n",
    "lng=np.random.randint(low=-180, high=180, size=1000)"
   ]
  },
  {
   "cell_type": "code",
   "execution_count": 89,
   "metadata": {
    "collapsed": true
   },
   "outputs": [],
   "source": [
    "#zip togehter\n",
    "cord=list(zip(lat,lng))"
   ]
  },
  {
   "cell_type": "code",
   "execution_count": null,
   "metadata": {
    "collapsed": true
   },
   "outputs": [],
   "source": [
    "#find city names an countries nearest these coordinates as sample\n",
    "cities=[]\n",
    "cc=[]\n",
    "for x in range(len(cord)):\n",
    "    cities.append(cp.nearest_city(cord[x][0],cord[x][1]).city_name)\n",
    "    cc.append(cp.nearest_city(cord[x][0],cord[x][1]).country_code)\n"
   ]
  },
  {
   "cell_type": "code",
   "execution_count": null,
   "metadata": {},
   "outputs": [],
   "source": [
    "#call weather api and collect responses\n",
    "weather=[]\n",
    "for x in range(len(cc)):\n",
    "    url=\"http://api.openweathermap.org/data/2.5/weather?q=\"+cities[x]+','+cc[x]+api_key\n",
    "    weather.append(req.get(url).json())"
   ]
  },
  {
   "cell_type": "code",
   "execution_count": null,
   "metadata": {
    "collapsed": true
   },
   "outputs": [],
   "source": [
    "#sort out data from responses...\n",
    "temp=[]\n",
    "for x in range(len(weather)):\n",
    "    if weather[x] == {'cod': '404', 'message': 'city not found'}:\n",
    "        temp.append(\"NaN\")\n",
    "    else: temp.append(weather[x]['main']['temp'])\n"
   ]
  },
  {
   "cell_type": "code",
   "execution_count": null,
   "metadata": {
    "collapsed": true
   },
   "outputs": [],
   "source": [
    "humidity=[]\n",
    "for x in range(len(weather)):\n",
    "    if weather[x] == {'cod': '404', 'message': 'city not found'}:\n",
    "        humidity.append(\"NaN\")\n",
    "    else: humidity.append(weather[x]['main']['humidity'])\n"
   ]
  },
  {
   "cell_type": "code",
   "execution_count": null,
   "metadata": {
    "collapsed": true
   },
   "outputs": [],
   "source": [
    "clouds=[]\n",
    "for x in range(len(weather)):\n",
    "    if weather[x] == {'cod': '404', 'message': 'city not found'}:\n",
    "        clouds.append(\"NaN\")\n",
    "    else: clouds.append(weather[x]['clouds']['all'])\n"
   ]
  },
  {
   "cell_type": "code",
   "execution_count": null,
   "metadata": {
    "collapsed": true
   },
   "outputs": [],
   "source": [
    "windspeed=[]\n",
    "for x in range(len(weather)):\n",
    "    if weather[x] == {'cod': '404', 'message': 'city not found'}:\n",
    "        windspeed.append(\"NaN\")\n",
    "    else: windspeed.append(weather[x]['wind']['speed'])\n"
   ]
  },
  {
   "cell_type": "code",
   "execution_count": null,
   "metadata": {},
   "outputs": [],
   "source": [
    "latitude=[]\n",
    "for x in range(len(weather)):\n",
    "    if weather[x] == {'cod': '404', 'message': 'city not found'}:\n",
    "        latitude.append(\"NaN\")\n",
    "    else: latitude.append(weather[x]['coord']['lat'])\n"
   ]
  },
  {
   "cell_type": "code",
   "execution_count": null,
   "metadata": {
    "collapsed": true
   },
   "outputs": [],
   "source": [
    "#organize data in pandas\n",
    "weather_data=pd.DataFrame({'lat':latitude,'city':cities,'country':cc,'temp':temp,'humidity':humidity,'clouds':clouds,'windspeed':windspeed})"
   ]
  },
  {
   "cell_type": "code",
   "execution_count": null,
   "metadata": {},
   "outputs": [],
   "source": [
    "weather_data.to_csv('weather_data.csv')\n"
   ]
  },
  {
   "cell_type": "code",
   "execution_count": null,
   "metadata": {},
   "outputs": [],
   "source": [
    "#weather_data=pd.read_csv('weather_data.csv')"
   ]
  },
  {
   "cell_type": "code",
   "execution_count": null,
   "metadata": {},
   "outputs": [],
   "source": [
    "#sample data\n",
    "sample_df=weather_data.dropna().sample(n=500)\n",
    "weather_data"
   ]
  },
  {
   "cell_type": "code",
   "execution_count": null,
   "metadata": {},
   "outputs": [],
   "source": [
    "#plot!\n",
    "plt.scatter(x=sample_df['lat'],y=sample_df['temp'])\n",
    "plt.xlabel('Latitude')\n",
    "plt.ylabel('Temperature (K)')\n",
    "plt.title(\"Latitude vs Temperature\")\n",
    "plt.show()"
   ]
  },
  {
   "cell_type": "code",
   "execution_count": null,
   "metadata": {},
   "outputs": [],
   "source": [
    "plt.scatter(x=sample_df['lat'],y=sample_df['humidity'])\n",
    "plt.xlabel('Latitude')\n",
    "plt.ylabel('Humidity (%)')\n",
    "plt.title(\"Latitude vs Humidity \")\n",
    "plt.show()"
   ]
  },
  {
   "cell_type": "code",
   "execution_count": null,
   "metadata": {},
   "outputs": [],
   "source": [
    "plt.scatter(x=sample_df['lat'],y=sample_df['clouds'])\n",
    "plt.xlabel('Latitude')\n",
    "plt.ylabel('Clouds')\n",
    "plt.title(\"Latitude vs Clouds\")\n",
    "plt.show()"
   ]
  },
  {
   "cell_type": "code",
   "execution_count": null,
   "metadata": {},
   "outputs": [],
   "source": [
    "plt.scatter(x=sample_df['lat'],y=sample_df['windspeed'])\n",
    "plt.xlabel('Latitude')\n",
    "plt.ylabel('Windspeed')\n",
    "plt.title(\"Latitude vs Windspeed (MPH)\")\n",
    "plt.show()"
   ]
  },
  {
   "cell_type": "code",
   "execution_count": null,
   "metadata": {
    "collapsed": true
   },
   "outputs": [],
   "source": []
  }
 ],
 "metadata": {
  "kernelspec": {
   "display_name": "Python 3",
   "language": "python",
   "name": "python3"
  },
  "language_info": {
   "codemirror_mode": {
    "name": "ipython",
    "version": 3
   },
   "file_extension": ".py",
   "mimetype": "text/x-python",
   "name": "python",
   "nbconvert_exporter": "python",
   "pygments_lexer": "ipython3",
   "version": "3.6.1"
  }
 },
 "nbformat": 4,
 "nbformat_minor": 2
}
