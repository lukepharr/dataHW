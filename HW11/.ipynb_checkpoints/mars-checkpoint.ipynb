{
 "cells": [
  {
   "cell_type": "code",
   "execution_count": 19,
   "metadata": {
    "collapsed": true
   },
   "outputs": [],
   "source": [
    "#dependencies\n",
    "import pymongo as mong\n",
    "import time \n",
    "import requests as req\n",
    "import pandas as pd\n",
    "from bs4 import BeautifulSoup as bs\n",
    "from splinter import Browser as br\n",
    "executable_path = {'executable_path': 'chromedriver'}\n",
    "browser = br('chrome', **executable_path, headless=False)\n"
   ]
  },
  {
   "cell_type": "code",
   "execution_count": 20,
   "metadata": {
    "collapsed": true
   },
   "outputs": [],
   "source": [
    "#fetching all news items (including the first)\n",
    "url='https://mars.nasa.gov/news'\n",
    "browser.visit(url)\n",
    "time.sleep(1)\n",
    "html=browser.html"
   ]
  },
  {
   "cell_type": "code",
   "execution_count": 21,
   "metadata": {
    "collapsed": true
   },
   "outputs": [],
   "source": [
    "soup=bs(html, 'lxml')"
   ]
  },
  {
   "cell_type": "code",
   "execution_count": 22,
   "metadata": {
    "collapsed": true
   },
   "outputs": [],
   "source": [
    "results=soup.find_all('li', class_='slide')\n"
   ]
  },
  {
   "cell_type": "code",
   "execution_count": 23,
   "metadata": {
    "collapsed": true
   },
   "outputs": [],
   "source": [
    "title=[]\n",
    "teaser=[]\n",
    "for x in results:\n",
    "    title.append(x.find('div', class_='content_title').text)\n",
    "    teaser.append(x.find('div', class_='article_teaser_body').text)\n",
    "    #print(\"------------------------------------------------------------\")\n",
    "    #print(\" \")    \n",
    "    #print(x.find('div', class_='content_title').text)\n",
    "    #print(\" \")\n",
    "    #print(x.find('div', class_='article_teaser_body').text)\n",
    "    #print(\" \")\n",
    "first_title=title[0]\n",
    "first_teaser=teaser[0]"
   ]
  },
  {
   "cell_type": "code",
   "execution_count": 24,
   "metadata": {
    "collapsed": true
   },
   "outputs": [],
   "source": [
    "#fetching featured image url\n",
    "url='https://www.jpl.nasa.gov/spaceimages/?search=&category=Mars'\n",
    "browser.visit(url)\n",
    "time.sleep(1)\n",
    "result=browser.find_by_id('full_image')\n",
    "image_url=\"https://www.jpl.nasa.gov/\"+result[\"data-fancybox-href\"]"
   ]
  },
  {
   "cell_type": "code",
   "execution_count": 25,
   "metadata": {
    "collapsed": true
   },
   "outputs": [],
   "source": [
    "#fetching most recent weather report\n",
    "url='https://twitter.com/marswxreport?lang=en'\n",
    "browser.visit(url)\n",
    "time.sleep(1)\n",
    "soup=bs(browser.html,'lxml')\n",
    "weather_tweet=soup.find('p', class_='TweetTextSize TweetTextSize--normal js-tweet-text tweet-text').text"
   ]
  },
  {
   "cell_type": "code",
   "execution_count": 26,
   "metadata": {
    "collapsed": true
   },
   "outputs": [],
   "source": [
    "#fetching mars facts\n",
    "url='https://space-facts.com/mars/'\n",
    "soup=bs(req.get(url).text,'lxml')\n"
   ]
  },
  {
   "cell_type": "code",
   "execution_count": 27,
   "metadata": {
    "collapsed": true
   },
   "outputs": [],
   "source": [
    "result=soup.find('table', class_=\"tablepress tablepress-id-mars\").find_all('tr')\n"
   ]
  },
  {
   "cell_type": "code",
   "execution_count": 28,
   "metadata": {
    "collapsed": true
   },
   "outputs": [],
   "source": [
    "dict={}\n",
    "for x in result:\n",
    "    dict[x.find('td', class_='column-1').text] = x.find('td', class_='column-2').text\n",
    "df=pd.DataFrame(dict, index=[0])"
   ]
  },
  {
   "cell_type": "code",
   "execution_count": 29,
   "metadata": {
    "collapsed": true
   },
   "outputs": [],
   "source": [
    "#converting to html bound string\n",
    "facts_html=df.to_html"
   ]
  },
  {
   "cell_type": "code",
   "execution_count": 35,
   "metadata": {},
   "outputs": [],
   "source": [
    "#collect download urls for hemispheres\n",
    "download_urls=[]\n",
    "url='https://astrogeology.usgs.gov/search/results?q=hemisphere+enhanced&k1=target&v1=Mars'\n",
    "browser.visit(url)\n",
    "time.sleep(1)\n",
    "for i in range(4):\n",
    "    mask=browser.find_by_css('.description')[i]\n",
    "    browser.find_by_css('h3')[i].click()\n",
    "    time.sleep(1)\n",
    "    dict_entry={'title': browser.find_by_css('h2.title').text.split(' Enhanced')[0], 'url': browser.find_by_text('Original')['href']}\n",
    "    download_urls.append(dict_entry)\n",
    "    browser.back()\n",
    "    time.sleep(1)\n",
    "\n"
   ]
  },
  {
   "cell_type": "code",
   "execution_count": null,
   "metadata": {
    "collapsed": true
   },
   "outputs": [],
   "source": []
  }
 ],
 "metadata": {
  "kernelspec": {
   "display_name": "Python 3",
   "language": "python",
   "name": "python3"
  },
  "language_info": {
   "codemirror_mode": {
    "name": "ipython",
    "version": 3
   },
   "file_extension": ".py",
   "mimetype": "text/x-python",
   "name": "python",
   "nbconvert_exporter": "python",
   "pygments_lexer": "ipython3",
   "version": "3.6.1"
  }
 },
 "nbformat": 4,
 "nbformat_minor": 2
}
