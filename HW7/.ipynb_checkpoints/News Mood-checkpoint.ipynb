{
 "cells": [
  {
   "cell_type": "code",
   "execution_count": 34,
   "metadata": {
    "collapsed": true
   },
   "outputs": [],
   "source": [
    "import tweepy\n",
    "import json\n",
    "import numpy as np\n",
    "# Import and Initialize Sentiment Analyzer\n",
    "from vaderSentiment.vaderSentiment import SentimentIntensityAnalyzer\n",
    "analyzer = SentimentIntensityAnalyzer()\n",
    "import pandas as pd\n",
    "import matplotlib.pyplot as plt\n",
    "import seaborn"
   ]
  },
  {
   "cell_type": "code",
   "execution_count": 35,
   "metadata": {},
   "outputs": [],
   "source": [
    "consumer_key = open('../../consumer_key_twitter.txt').read()\n",
    "consumer_secret = open('../../consumer_secret_twitter.txt').read()\n",
    "access_token = open('../../acces_token_twitter.txt').read()\n",
    "access_token_secret = open('../../acces_token_secret_twitter.txt').read()\n",
    "\n",
    "# Setup Tweepy API Authentication\n",
    "auth = tweepy.OAuthHandler(consumer_key, consumer_secret)\n",
    "auth.set_access_token(access_token, access_token_secret)\n",
    "\n",
    "api = tweepy.API(auth, parser=tweepy.parsers.JSONParser())\n"
   ]
  },
  {
   "cell_type": "code",
   "execution_count": 36,
   "metadata": {
    "collapsed": true
   },
   "outputs": [],
   "source": [
    "users=('@BBC', '@CBS', '@CNN', '@foxnews', '@nytimes')\n",
    "#df=({'@BBC':[], '@CBS':[], '@CNN':[], '@foxnews':[], '@nytimes':[]})\n",
    "df = pd.DataFrame(index=np.arange(100))\n",
    "df_ = pd.DataFrame(index=np.arange(100))\n"
   ]
  },
  {
   "cell_type": "code",
   "execution_count": null,
   "metadata": {},
   "outputs": [],
   "source": [
    "#oldest_tweet = \"\"\n",
    "compound_array=[]\n",
    "positive_array=[]\n",
    "negative_array=[]\n",
    "neutral_array=[]\n",
    "date_array=[]\n",
    "text_array=[]\n",
    "\n",
    "for user in users:\n",
    "    page=1\n",
    "    for x in range(5):\n",
    "        public_tweets= api.user_timeline(user,page=page,) #problem with the max_id variable\n",
    "        for tweet in public_tweets:\n",
    "            compound_array.append(analyzer.polarity_scores(tweet['text'])['compound'])\n",
    "            positive_array.append(analyzer.polarity_scores(tweet['text'])['pos'])\n",
    "            negative_array.append(analyzer.polarity_scores(tweet['text'])['neg'])\n",
    "            neutral_array.append(analyzer.polarity_scores(tweet['text'])['neu'])\n",
    "            date_array.append(tweet['created_at'])\n",
    "            text_array.append(tweet['text'])\n",
    "            #oldest_tweet = tweet['id_str']\n",
    "        page += 1\n",
    "    \n",
    "    df[user]=compound_array\n",
    "    df_[user+' compound']=compound_array\n",
    "    df_[user+' positive']=positive_array\n",
    "    df_[user+' negative']=negative_array\n",
    "    df_[user+' neutral']=neutral_array\n",
    "    df_[user+' date']=date_array\n",
    "    df_[user+' text']=text_array\n",
    "    compound_array=[]\n",
    "    positive_array=[]\n",
    "    negative_array=[]\n",
    "    neutral_array=[]\n",
    "    date_array=[]\n",
    "    text_array=[]\n",
    "df_.to_csv('data.csv')"
   ]
  },
  {
   "cell_type": "code",
   "execution_count": null,
   "metadata": {
    "scrolled": false
   },
   "outputs": [],
   "source": [
    "plt.show()\n",
    "for user in users:\n",
    "    plt.scatter(x=df.index, y=df[user],marker='o',alpha=0.5,s=(df[user]+10)+100)\n",
    "plt.legend(loc='lower left',frameon=True,framealpha=.8)\n",
    "plt.ylabel('Sentiment')\n",
    "plt.xlabel('Tweets ago')\n",
    "plt.title('Sentiment of the last 100 tweets of 5 major news outlets')\n",
    "plt.savefig('MoodScatter.png')\n",
    "plt.show()"
   ]
  },
  {
   "cell_type": "code",
   "execution_count": null,
   "metadata": {},
   "outputs": [],
   "source": [
    "plt.bar(np.arange(5),df.mean(),tick_label=users, color=['blue','green','red','purple','yellow'])\n",
    "plt.ylabel('Sentiment')\n",
    "plt.xlabel('Outlet')\n",
    "plt.title('Average sentiment for last 100 tweets')\n",
    "plt.savefig('MoodBar.png')\n",
    "plt.show()"
   ]
  },
  {
   "cell_type": "code",
   "execution_count": null,
   "metadata": {
    "collapsed": true
   },
   "outputs": [],
   "source": []
  }
 ],
 "metadata": {
  "kernelspec": {
   "display_name": "Python 3",
   "language": "python",
   "name": "python3"
  },
  "language_info": {
   "codemirror_mode": {
    "name": "ipython",
    "version": 3
   },
   "file_extension": ".py",
   "mimetype": "text/x-python",
   "name": "python",
   "nbconvert_exporter": "python",
   "pygments_lexer": "ipython3",
   "version": "3.6.1"
  }
 },
 "nbformat": 4,
 "nbformat_minor": 2
}
