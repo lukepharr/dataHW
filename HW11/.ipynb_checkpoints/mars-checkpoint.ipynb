{
 "cells": [
  {
   "cell_type": "code",
   "execution_count": 86,
   "metadata": {},
   "outputs": [],
   "source": [
    "import pymongo as mong\n",
    "import time \n",
    "import requests as req\n",
    "import pandas as pd\n",
    "from bs4 import BeautifulSoup as bs\n",
    "from splinter import Browser as br\n",
    "executable_path = {'executable_path': 'chromedriver'}\n",
    "browser = br('chrome', **executable_path, headless=False)\n"
   ]
  },
  {
   "cell_type": "code",
   "execution_count": 87,
   "metadata": {},
   "outputs": [],
   "source": [
    "url='https://mars.nasa.gov/news'\n",
    "browser.visit(url)\n",
    "time.sleep(1)\n",
    "html=browser.html"
   ]
  },
  {
   "cell_type": "code",
   "execution_count": 88,
   "metadata": {
    "collapsed": true
   },
   "outputs": [],
   "source": [
    "soup=bs(html, 'lxml')"
   ]
  },
  {
   "cell_type": "code",
   "execution_count": 89,
   "metadata": {},
   "outputs": [],
   "source": [
    "results=soup.find_all('li', class_='slide')\n"
   ]
  },
  {
   "cell_type": "code",
   "execution_count": 90,
   "metadata": {},
   "outputs": [],
   "source": [
    "title=[]\n",
    "teaser=[]\n",
    "for x in results:\n",
    "    title.append(x.find('div', class_='content_title').text)\n",
    "    teaser.append(x.find('div', class_='article_teaser_body').text)\n",
    "    #print(\"------------------------------------------------------------\")\n",
    "    #print(\" \")    \n",
    "    #print(x.find('div', class_='content_title').text)\n",
    "    #print(\" \")\n",
    "    #print(x.find('div', class_='article_teaser_body').text)\n",
    "    #print(\" \")\n"
   ]
  },
  {
   "cell_type": "code",
   "execution_count": 91,
   "metadata": {},
   "outputs": [],
   "source": [
    "url='https://www.jpl.nasa.gov/spaceimages/?search=&category=Mars'\n",
    "browser.visit(url)\n",
    "time.sleep(1)\n",
    "result=browser.find_by_id('full_image')\n",
    "image_url=\"https://www.jpl.nasa.gov/\"+result[\"data-fancybox-href\"]"
   ]
  },
  {
   "cell_type": "code",
   "execution_count": 92,
   "metadata": {},
   "outputs": [
    {
     "data": {
      "text/plain": [
       "'https://www.jpl.nasa.gov//spaceimages/images/mediumsize/PIA18295_ip.jpg'"
      ]
     },
     "execution_count": 92,
     "metadata": {},
     "output_type": "execute_result"
    }
   ],
   "source": [
    "image_url"
   ]
  },
  {
   "cell_type": "code",
   "execution_count": 94,
   "metadata": {},
   "outputs": [],
   "source": [
    "url='https://twitter.com/marswxreport?lang=en'\n",
    "browser.visit(url)\n",
    "time.sleep(1)\n",
    "soup=bs(browser.html,'lxml')\n",
    "weather_tweet=soup.find('p', class_='TweetTextSize TweetTextSize--normal js-tweet-text tweet-text').text"
   ]
  },
  {
   "cell_type": "code",
   "execution_count": 98,
   "metadata": {},
   "outputs": [],
   "source": [
    "url='https://space-facts.com/mars/'\n",
    "soup=bs(req.get(url).text,'lxml')\n"
   ]
  },
  {
   "cell_type": "code",
   "execution_count": 106,
   "metadata": {},
   "outputs": [
    {
     "data": {
      "text/plain": [
       "[<td class=\"column-1\"><strong>Polar Diameter:</strong></td>,\n",
       " <td class=\"column-2\">6,752 km<br/>\n",
       " </td>]"
      ]
     },
     "execution_count": 106,
     "metadata": {},
     "output_type": "execute_result"
    }
   ],
   "source": [
    "result=soup.find('table', class_=\"tablepress tablepress-id-mars\").find_all('tr')\n"
   ]
  },
  {
   "cell_type": "code",
   "execution_count": 119,
   "metadata": {},
   "outputs": [],
   "source": [
    "dict={}\n",
    "for x in result:\n",
    "    dict[x.find('td', class_='column-1').text] = x.find('td', class_='column-2').text\n",
    "df=pd.DataFrame(dict, index=[0])"
   ]
  },
  {
   "cell_type": "code",
   "execution_count": 117,
   "metadata": {},
   "outputs": [],
   "source": []
  },
  {
   "cell_type": "code",
   "execution_count": null,
   "metadata": {},
   "outputs": [],
   "source": []
  },
  {
   "cell_type": "code",
   "execution_count": null,
   "metadata": {
    "collapsed": true
   },
   "outputs": [],
   "source": []
  }
 ],
 "metadata": {
  "kernelspec": {
   "display_name": "Python 3",
   "language": "python",
   "name": "python3"
  },
  "language_info": {
   "codemirror_mode": {
    "name": "ipython",
    "version": 3
   },
   "file_extension": ".py",
   "mimetype": "text/x-python",
   "name": "python",
   "nbconvert_exporter": "python",
   "pygments_lexer": "ipython3",
   "version": "3.6.1"
  }
 },
 "nbformat": 4,
 "nbformat_minor": 2
}
