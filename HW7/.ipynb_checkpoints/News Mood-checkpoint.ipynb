{
 "cells": [
  {
   "cell_type": "code",
   "execution_count": 6,
   "metadata": {},
   "outputs": [],
   "source": [
    "import tweepy\n",
    "import json\n",
    "import numpy as np\n",
    "# Import and Initialize Sentiment Analyzer\n",
    "from vaderSentiment.vaderSentiment import SentimentIntensityAnalyzer\n",
    "analyzer = SentimentIntensityAnalyzer()\n",
    "import pandas as pd\n",
    "import matplotlib.pyplot as plt"
   ]
  },
  {
   "cell_type": "code",
   "execution_count": 19,
   "metadata": {
    "collapsed": true
   },
   "outputs": [],
   "source": [
    "consumer_key = '30Z8Dwqy7gkJ1mxOAy1Dqrnmv'\n",
    "consumer_secret = 'WkI2fvAjFTmFq4LH7aXKHPiB5sAAo2lQDll30gCA3nFscY2WWm'\n",
    "access_token = '967430440335413249-C7zFPWxyXopWjtUBmD4mVpp14JE9yjX'\n",
    "access_token_secret = 'iddKLYODgDXvqNxiu1lrxGp5ugfWvQBIw9P1jqr14xLFo'\n",
    "\n",
    "# Setup Tweepy API Authentication\n",
    "auth = tweepy.OAuthHandler(consumer_key, consumer_secret)\n",
    "auth.set_access_token(access_token, access_token_secret)\n",
    "\n",
    "api = tweepy.API(auth, parser=tweepy.parsers.JSONParser())\n"
   ]
  },
  {
   "cell_type": "code",
   "execution_count": 11,
   "metadata": {
    "collapsed": true
   },
   "outputs": [],
   "source": [
    "users=('@BBC', '@CBS', '@CNN', '@foxnews', '@nytimes')\n",
    "df=({'@BBC':[], '@CBS':[], '@CNN':[], '@foxnews':[], '@nytimes':[]})"
   ]
  },
  {
   "cell_type": "code",
   "execution_count": 33,
   "metadata": {},
   "outputs": [
    {
     "data": {
      "text/plain": [
       "{'contributors': None,\n",
       " 'coordinates': None,\n",
       " 'created_at': 'Mon Mar 05 18:38:04 +0000 2018',\n",
       " 'entities': {'hashtags': [],\n",
       "  'symbols': [],\n",
       "  'urls': [{'display_url': 'twitter.com/i/web/status/9…',\n",
       "    'expanded_url': 'https://twitter.com/i/web/status/970730178057039877',\n",
       "    'indices': [117, 140],\n",
       "    'url': 'https://t.co/1UBRGqIOp6'}],\n",
       "  'user_mentions': []},\n",
       " 'favorite_count': 15,\n",
       " 'favorited': False,\n",
       " 'geo': None,\n",
       " 'id': 970730178057039877,\n",
       " 'id_str': '970730178057039877',\n",
       " 'in_reply_to_screen_name': None,\n",
       " 'in_reply_to_status_id': None,\n",
       " 'in_reply_to_status_id_str': None,\n",
       " 'in_reply_to_user_id': None,\n",
       " 'in_reply_to_user_id_str': None,\n",
       " 'is_quote_status': False,\n",
       " 'lang': 'en',\n",
       " 'place': None,\n",
       " 'possibly_sensitive': False,\n",
       " 'retweet_count': 8,\n",
       " 'retweeted': False,\n",
       " 'source': '<a href=\"http://www.radian6.com\" rel=\"nofollow\">Radian6 -Social Media Management</a>',\n",
       " 'text': 'No meat. No fish. No eggs. No milk. No cheese. How hard is it to go vegan for a month? \\n\\n\\U0001f966🥑🍏 Nesta McGregor investi… https://t.co/1UBRGqIOp6',\n",
       " 'truncated': True,\n",
       " 'user': {'contributors_enabled': False,\n",
       "  'created_at': 'Thu Jan 29 08:30:16 +0000 2009',\n",
       "  'default_profile': False,\n",
       "  'default_profile_image': False,\n",
       "  'description': 'Our mission is to enrich your life and to inform, educate and entertain you, wherever you are.',\n",
       "  'entities': {'description': {'urls': []},\n",
       "   'url': {'urls': [{'display_url': 'bbc.co.uk',\n",
       "      'expanded_url': 'http://www.bbc.co.uk',\n",
       "      'indices': [0, 22],\n",
       "      'url': 'http://t.co/9Yv7DJ1Pmu'}]}},\n",
       "  'favourites_count': 3584,\n",
       "  'follow_request_sent': False,\n",
       "  'followers_count': 1281620,\n",
       "  'following': False,\n",
       "  'friends_count': 174,\n",
       "  'geo_enabled': False,\n",
       "  'has_extended_profile': False,\n",
       "  'id': 19701628,\n",
       "  'id_str': '19701628',\n",
       "  'is_translation_enabled': False,\n",
       "  'is_translator': False,\n",
       "  'lang': 'en',\n",
       "  'listed_count': 9625,\n",
       "  'location': 'TV. Radio. Online',\n",
       "  'name': 'BBC',\n",
       "  'notifications': False,\n",
       "  'profile_background_color': '000000',\n",
       "  'profile_background_image_url': 'http://pbs.twimg.com/profile_background_images/459267803640385537/QkzQGfqX.jpeg',\n",
       "  'profile_background_image_url_https': 'https://pbs.twimg.com/profile_background_images/459267803640385537/QkzQGfqX.jpeg',\n",
       "  'profile_background_tile': False,\n",
       "  'profile_banner_url': 'https://pbs.twimg.com/profile_banners/19701628/1519917079',\n",
       "  'profile_image_url': 'http://pbs.twimg.com/profile_images/662708106/bbc_normal.png',\n",
       "  'profile_image_url_https': 'https://pbs.twimg.com/profile_images/662708106/bbc_normal.png',\n",
       "  'profile_link_color': '000000',\n",
       "  'profile_sidebar_border_color': '000000',\n",
       "  'profile_sidebar_fill_color': 'DDEEF6',\n",
       "  'profile_text_color': '333333',\n",
       "  'profile_use_background_image': False,\n",
       "  'protected': False,\n",
       "  'screen_name': 'BBC',\n",
       "  'statuses_count': 23022,\n",
       "  'time_zone': 'London',\n",
       "  'translator_type': 'regular',\n",
       "  'url': 'http://t.co/9Yv7DJ1Pmu',\n",
       "  'utc_offset': 0,\n",
       "  'verified': True}}"
      ]
     },
     "execution_count": 33,
     "metadata": {},
     "output_type": "execute_result"
    }
   ],
   "source": [
    "oldest_tweet = \"\"\n",
    "for user in users\n",
    "    for x in range(5):\n",
    "        "
   ]
  },
  {
   "cell_type": "code",
   "execution_count": null,
   "metadata": {
    "collapsed": true
   },
   "outputs": [],
   "source": []
  }
 ],
 "metadata": {
  "kernelspec": {
   "display_name": "Python 3",
   "language": "python",
   "name": "python3"
  },
  "language_info": {
   "codemirror_mode": {
    "name": "ipython",
    "version": 3
   },
   "file_extension": ".py",
   "mimetype": "text/x-python",
   "name": "python",
   "nbconvert_exporter": "python",
   "pygments_lexer": "ipython3",
   "version": "3.6.1"
  }
 },
 "nbformat": 4,
 "nbformat_minor": 2
}
