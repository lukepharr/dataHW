{
 "cells": [
  {
   "cell_type": "code",
   "execution_count": 1,
   "metadata": {
    "collapsed": true
   },
   "outputs": [],
   "source": [
    "import pandas as pd\n"
   ]
  },
  {
   "cell_type": "code",
   "execution_count": 3,
   "metadata": {},
   "outputs": [],
   "source": [
    "df=pd.read_csv('hawaii_measurements.csv')"
   ]
  },
  {
   "cell_type": "code",
   "execution_count": 21,
   "metadata": {},
   "outputs": [
    {
     "name": "stdout",
     "output_type": "stream",
     "text": [
      "        station        date  prcp  tobs\n",
      "4   USC00519397  2010-01-06   NaN    73\n",
      "26  USC00519397  2010-01-30   NaN    70\n",
      "29  USC00519397  2010-02-03   NaN    67\n",
      "43  USC00519397  2010-02-19   NaN    63\n",
      "61  USC00519397  2010-03-11   NaN    73\n",
      "Empty DataFrame\n",
      "Columns: [station, date, prcp, tobs]\n",
      "Index: []\n"
     ]
    }
   ],
   "source": [
    "print(df.loc[df['prcp'].isnull(),:].head(5)) #not empty\n",
    "print(df.loc[df['tobs'].isnull(),:].head(5)) #empty"
   ]
  },
  {
   "cell_type": "code",
   "execution_count": 34,
   "metadata": {},
   "outputs": [],
   "source": [
    "len(df)-len(df.loc[df['prcp'].isnull(),:])-len(df.dropna()) #sanity check\n",
    "df=df.dropna() #dropping NaN values"
   ]
  },
  {
   "cell_type": "code",
   "execution_count": 36,
   "metadata": {},
   "outputs": [],
   "source": [
    "df.to_csv('clean_hawaii_measurements.csv')"
   ]
  },
  {
   "cell_type": "code",
   "execution_count": null,
   "metadata": {},
   "outputs": [],
   "source": []
  },
  {
   "cell_type": "code",
   "execution_count": null,
   "metadata": {
    "collapsed": true
   },
   "outputs": [],
   "source": []
  }
 ],
 "metadata": {
  "kernelspec": {
   "display_name": "Python 3",
   "language": "python",
   "name": "python3"
  },
  "language_info": {
   "codemirror_mode": {
    "name": "ipython",
    "version": 3
   },
   "file_extension": ".py",
   "mimetype": "text/x-python",
   "name": "python",
   "nbconvert_exporter": "python",
   "pygments_lexer": "ipython3",
   "version": "3.6.1"
  }
 },
 "nbformat": 4,
 "nbformat_minor": 2
}
