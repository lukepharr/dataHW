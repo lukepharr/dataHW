{
 "cells": [
  {
   "cell_type": "code",
   "execution_count": 1,
   "metadata": {
    "collapsed": true
   },
   "outputs": [],
   "source": [
    "import pandas as pd\n",
    "import os"
   ]
  },
  {
   "cell_type": "code",
   "execution_count": 2,
   "metadata": {
    "collapsed": true
   },
   "outputs": [],
   "source": [
    "school=os.path.join(\"school_data.csv\")\n",
    "student=os.path.join(\"student_data.csv\")\n",
    "school_df=pd.read_csv(school)\n",
    "student_df=pd.read_csv(student)"
   ]
  },
  {
   "cell_type": "code",
   "execution_count": 36,
   "metadata": {},
   "outputs": [
    {
     "data": {
      "text/html": [
       "<div>\n",
       "<style>\n",
       "    .dataframe thead tr:only-child th {\n",
       "        text-align: right;\n",
       "    }\n",
       "\n",
       "    .dataframe thead th {\n",
       "        text-align: left;\n",
       "    }\n",
       "\n",
       "    .dataframe tbody tr th {\n",
       "        vertical-align: top;\n",
       "    }\n",
       "</style>\n",
       "<table border=\"1\" class=\"dataframe\">\n",
       "  <thead>\n",
       "    <tr style=\"text-align: right;\">\n",
       "      <th></th>\n",
       "      <th>total students</th>\n",
       "      <th>total schools</th>\n",
       "      <th>total budget</th>\n",
       "      <th>average reading score</th>\n",
       "      <th>average math score</th>\n",
       "      <th>% passing reading</th>\n",
       "      <th>% passing math</th>\n",
       "      <th>overal passing rate</th>\n",
       "    </tr>\n",
       "  </thead>\n",
       "  <tbody>\n",
       "    <tr>\n",
       "      <th>0</th>\n",
       "      <td>39170</td>\n",
       "      <td>15</td>\n",
       "      <td>24649428</td>\n",
       "      <td>81.87784</td>\n",
       "      <td>78.985371</td>\n",
       "      <td>0.858055</td>\n",
       "      <td>0.749809</td>\n",
       "      <td>0.803932</td>\n",
       "    </tr>\n",
       "  </tbody>\n",
       "</table>\n",
       "</div>"
      ],
      "text/plain": [
       "   total students  total schools  total budget  average reading score  \\\n",
       "0           39170             15      24649428               81.87784   \n",
       "\n",
       "   average math score  % passing reading  % passing math  overal passing rate  \n",
       "0           78.985371           0.858055        0.749809             0.803932  "
      ]
     },
     "execution_count": 36,
     "metadata": {},
     "output_type": "execute_result"
    }
   ],
   "source": [
    "Dis_Sum=pd.DataFrame(data={\"total schools\":len(school_df),\"total students\":len(student_df),\"total budget\":school_df['budget'].sum(), \"average math score\":student_df['math_score'].mean(), \"average reading score\":student_df['reading_score'].mean(),\"% passing math\":len(student_df.loc[student_df['math_score']>69,:])/len(student_df)\n",
    ",\"% passing reading\":len(student_df.loc[student_df['reading_score']>69,:])/len(student_df)}, index=[0])\n",
    "Dis_Sum=Dis_Sum[[\"total students\",\"total schools\",\"total budget\",\"average reading score\",\"average math score\",\"% passing reading\",\"% passing math\"]]\n",
    "Dis_Sum[\"overal passing rate\"]=(Dis_Sum[\"% passing reading\"]+Dis_Sum[\"% passing math\"])/2\n",
    "Dis_Sum"
   ]
  },
  {
   "cell_type": "code",
   "execution_count": 78,
   "metadata": {},
   "outputs": [
    {
     "data": {
      "text/html": [
       "<div>\n",
       "<style>\n",
       "    .dataframe thead tr:only-child th {\n",
       "        text-align: right;\n",
       "    }\n",
       "\n",
       "    .dataframe thead th {\n",
       "        text-align: left;\n",
       "    }\n",
       "\n",
       "    .dataframe tbody tr th {\n",
       "        vertical-align: top;\n",
       "    }\n",
       "</style>\n",
       "<table border=\"1\" class=\"dataframe\">\n",
       "  <thead>\n",
       "    <tr style=\"text-align: right;\">\n",
       "      <th></th>\n",
       "      <th>name</th>\n",
       "      <th>reading_score</th>\n",
       "      <th>math_score</th>\n",
       "      <th>School ID</th>\n",
       "      <th>type</th>\n",
       "      <th>size</th>\n",
       "      <th>budget</th>\n",
       "    </tr>\n",
       "  </thead>\n",
       "  <tbody>\n",
       "    <tr>\n",
       "      <th>0</th>\n",
       "      <td>Bailey High School</td>\n",
       "      <td>81.033963</td>\n",
       "      <td>77.048432</td>\n",
       "      <td>7</td>\n",
       "      <td>District</td>\n",
       "      <td>4976</td>\n",
       "      <td>3124928</td>\n",
       "    </tr>\n",
       "    <tr>\n",
       "      <th>1</th>\n",
       "      <td>Cabrera High School</td>\n",
       "      <td>83.975780</td>\n",
       "      <td>83.061895</td>\n",
       "      <td>6</td>\n",
       "      <td>Charter</td>\n",
       "      <td>1858</td>\n",
       "      <td>1081356</td>\n",
       "    </tr>\n",
       "    <tr>\n",
       "      <th>2</th>\n",
       "      <td>Figueroa High School</td>\n",
       "      <td>81.158020</td>\n",
       "      <td>76.711767</td>\n",
       "      <td>1</td>\n",
       "      <td>District</td>\n",
       "      <td>2949</td>\n",
       "      <td>1884411</td>\n",
       "    </tr>\n",
       "    <tr>\n",
       "      <th>3</th>\n",
       "      <td>Ford High School</td>\n",
       "      <td>80.746258</td>\n",
       "      <td>77.102592</td>\n",
       "      <td>13</td>\n",
       "      <td>District</td>\n",
       "      <td>2739</td>\n",
       "      <td>1763916</td>\n",
       "    </tr>\n",
       "    <tr>\n",
       "      <th>4</th>\n",
       "      <td>Griffin High School</td>\n",
       "      <td>83.816757</td>\n",
       "      <td>83.351499</td>\n",
       "      <td>4</td>\n",
       "      <td>Charter</td>\n",
       "      <td>1468</td>\n",
       "      <td>917500</td>\n",
       "    </tr>\n",
       "  </tbody>\n",
       "</table>\n",
       "</div>"
      ],
      "text/plain": [
       "                   name  reading_score  math_score  School ID      type  size  \\\n",
       "0    Bailey High School      81.033963   77.048432          7  District  4976   \n",
       "1   Cabrera High School      83.975780   83.061895          6   Charter  1858   \n",
       "2  Figueroa High School      81.158020   76.711767          1  District  2949   \n",
       "3      Ford High School      80.746258   77.102592         13  District  2739   \n",
       "4   Griffin High School      83.816757   83.351499          4   Charter  1468   \n",
       "\n",
       "    budget  \n",
       "0  3124928  \n",
       "1  1081356  \n",
       "2  1884411  \n",
       "3  1763916  \n",
       "4   917500  "
      ]
     },
     "execution_count": 78,
     "metadata": {},
     "output_type": "execute_result"
    }
   ],
   "source": [
    "school_scores_df=student_df.groupby(student_df['school']).mean().reset_index()\n",
    "school_scores_df.columns=['name', 'Student ID', 'reading_score', 'math_score']\n",
    "Sch_Sum=pd.merge(school_scores_df,school_df,how='outer',on='name')\n",
    "Sch_Sum=Sch_Sum[['name','reading_score','math_score','School ID','type', 'size','budget']]\n",
    "Sch_Sum.head()"
   ]
  },
  {
   "cell_type": "code",
   "execution_count": null,
   "metadata": {
    "collapsed": true
   },
   "outputs": [],
   "source": []
  }
 ],
 "metadata": {
  "kernelspec": {
   "display_name": "Python 3",
   "language": "python",
   "name": "python3"
  },
  "language_info": {
   "codemirror_mode": {
    "name": "ipython",
    "version": 3
   },
   "file_extension": ".py",
   "mimetype": "text/x-python",
   "name": "python",
   "nbconvert_exporter": "python",
   "pygments_lexer": "ipython3",
   "version": "3.6.1"
  }
 },
 "nbformat": 4,
 "nbformat_minor": 2
}
